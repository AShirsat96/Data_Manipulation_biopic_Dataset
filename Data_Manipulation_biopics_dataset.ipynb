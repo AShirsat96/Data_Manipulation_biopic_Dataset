{
 "cells": [
  {
   "cell_type": "markdown",
   "id": "74eb87a0",
   "metadata": {},
   "source": [
    "### Function for data manipulation."
   ]
  },
  {
   "cell_type": "code",
   "execution_count": 1,
   "id": "304d7291",
   "metadata": {},
   "outputs": [],
   "source": [
    "def process_data():\n",
    "    import pandas as pd\n",
    "    biopics = pd.read_csv(\"biopics.csv\", encoding = 'latin-1')\n",
    "    # Filter out duplicated rows\n",
    "    biopics.drop_duplicates(inplace=True)\n",
    "    # Rename column\n",
    "    biopics.rename(columns={\"box_office\": \"earnings\"},inplace = True)\n",
    "    # Filter out missing values\n",
    "    biopics.dropna(inplace=True)\n",
    "    # Keep movies after 1990\n",
    "    biopics = biopics[biopics['year_release'] >= 1990]\n",
    "    # Convert columns to categorical\n",
    "    biopics['type_of_subject'] = biopics['type_of_subject'].astype('category')\n",
    "    biopics['country'] = biopics['country'].astype('category')\n",
    "    # Create new variable\n",
    "    biopics['lead_actor_actress_known'] = ~biopics['lead_actor_actress'].isnull()\n",
    "    # update to million dollars\n",
    "    biopics['earnings'] = biopics['earnings'] / 1000000\n",
    "    # Sort by earning\n",
    "    biopics.sort_values(by='earnings', ascending=False, inplace=True)\n",
    "    \n",
    "    return biopics"
   ]
  },
  {
   "cell_type": "code",
   "execution_count": null,
   "id": "60838fb3",
   "metadata": {},
   "outputs": [],
   "source": []
  }
 ],
 "metadata": {
  "kernelspec": {
   "display_name": "Python 3",
   "language": "python",
   "name": "python3"
  },
  "language_info": {
   "codemirror_mode": {
    "name": "ipython",
    "version": 3
   },
   "file_extension": ".py",
   "mimetype": "text/x-python",
   "name": "python",
   "nbconvert_exporter": "python",
   "pygments_lexer": "ipython3",
   "version": "3.8.8"
  }
 },
 "nbformat": 4,
 "nbformat_minor": 5
}
